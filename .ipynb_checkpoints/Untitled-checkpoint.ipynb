{
 "cells": [
  {
   "cell_type": "code",
   "execution_count": 8,
   "id": "9bf5bad5",
   "metadata": {},
   "outputs": [
    {
     "name": "stdout",
     "output_type": "stream",
     "text": [
      "Collecting PyPDF2\n",
      "  Downloading pypdf2-3.0.1-py3-none-any.whl (232 kB)\n",
      "     ------------------------------------ 232.6/232.6 kB 123.7 kB/s eta 0:00:00\n",
      "Requirement already satisfied: typing_extensions>=3.10.0.0 in c:\\users\\hp\\anaconda3\\lib\\site-packages (from PyPDF2) (4.3.0)\n",
      "Installing collected packages: PyPDF2\n",
      "Successfully installed PyPDF2-3.0.1\n"
     ]
    }
   ],
   "source": [
    "!pip3 install PyPDF2"
   ]
  },
  {
   "cell_type": "code",
   "execution_count": 36,
   "id": "63deb0d2",
   "metadata": {},
   "outputs": [
    {
     "name": "stdout",
     "output_type": "stream",
     "text": [
      "Input the pdf page number1\n",
      "6\n",
      "thereactiontothatloss\n",
      "oWhencommunicationproducestheeffectintendedon\n",
      "theconsumerofthecommunication,the\n",
      "communicationissaidtobeStrategic\n",
      "oThereare11principlesthatgovernorfacilitate\n",
      "strategiccommunication\n",
      "oTheprinciplesthatfacilitatestrategiccommunication\n",
      "areasfollows\n",
      "Knowingoneselfandone'sroleatthemoment\n",
      "Possiblecounterargument\n",
      "Knowingtheplaceofnegotiation\n",
      "Knowinginteractantverywell\n",
      "FamiliaritywiththeCulture\n",
      "Knowingenvironmentofthecommunicativeevents\n",
      "Appreciatingtheplaceofsilence\n",
      "Knowingwhenandhowtosavetheinteractant'sface\n",
      "Acceptingone'sweakness\n",
      "Foregroundingcommunicationwithmutualbeliefs\n"
     ]
    }
   ],
   "source": [
    "def pdfconverter():\n",
    "    pdfname_location = \n",
    "    pages_number = int(input(\"Input the pdf page number\"))\n",
    "    \n",
    "    # importing required modules\n",
    "    import PyPDF2\n",
    "    \n",
    "    # creating a pdf file object\n",
    "    pdfFileObj = open(pdfname_location, 'rb')\n",
    "    \n",
    "    # creating a pdf reader object\n",
    "    pdfReader = PyPDF2.PdfReader(pdfFileObj)\n",
    "    \n",
    "    # printing number of pages in pdf file\n",
    "    print(len(pdfReader.pages))\n",
    "    \n",
    "    # creating a page object\n",
    "    pageObj = pdfReader.pages[pages_number] \n",
    "    \n",
    "    # extracting text from page\n",
    "    print(pageObj.extract_text())  \n",
    "    \n",
    "    # closing the pdf file object\n",
    "    pdfFileObj.close()"
   ]
  },
  {
   "cell_type": "code",
   "execution_count": null,
   "id": "bc636e0c",
   "metadata": {},
   "outputs": [],
   "source": []
  }
 ],
 "metadata": {
  "kernelspec": {
   "display_name": "Python 3 (ipykernel)",
   "language": "python",
   "name": "python3"
  },
  "language_info": {
   "codemirror_mode": {
    "name": "ipython",
    "version": 3
   },
   "file_extension": ".py",
   "mimetype": "text/x-python",
   "name": "python",
   "nbconvert_exporter": "python",
   "pygments_lexer": "ipython3",
   "version": "3.9.13"
  }
 },
 "nbformat": 4,
 "nbformat_minor": 5
}
